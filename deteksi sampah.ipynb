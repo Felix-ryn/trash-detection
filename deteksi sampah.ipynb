{
 "cells": [
  {
   "cell_type": "code",
   "execution_count": 14,
   "id": "be744aef",
   "metadata": {},
   "outputs": [
    {
     "name": "stdout",
     "output_type": "stream",
     "text": [
      "Requirement already satisfied: opencv-python in c:\\users\\putuw\\appdata\\local\\programs\\python\\python312\\lib\\site-packages (4.10.0.84)\n",
      "Requirement already satisfied: numpy>=1.21.2 in c:\\users\\putuw\\appdata\\local\\programs\\python\\python312\\lib\\site-packages (from opencv-python) (2.1.1)\n",
      "Note: you may need to restart the kernel to use updated packages.\n"
     ]
    }
   ],
   "source": [
    "%pip install opencv-python"
   ]
  },
  {
   "cell_type": "code",
   "execution_count": 15,
   "id": "af6d896d",
   "metadata": {},
   "outputs": [
    {
     "name": "stdout",
     "output_type": "stream",
     "text": [
      "[WinError 2] The system cannot find the file specified: 'yolov5 (1)'\n",
      "d:\\Downloads\\yolov5\\yolov5\n"
     ]
    }
   ],
   "source": [
    "%cd yolov5 (1)"
   ]
  },
  {
   "cell_type": "code",
   "execution_count": 16,
   "id": "18942897",
   "metadata": {},
   "outputs": [
    {
     "name": "stdout",
     "output_type": "stream",
     "text": [
      "Note: you may need to restart the kernel to use updated packages.\n"
     ]
    },
    {
     "name": "stderr",
     "output_type": "stream",
     "text": [
      "ERROR: Could not open requirements file: [Errno 13] Permission denied: 'd:/Downloads/yolov5/yolov5'\n"
     ]
    }
   ],
   "source": [
    "%pip install -r \"d:/Downloads/yolov5/yolov5\""
   ]
  },
  {
   "cell_type": "code",
   "execution_count": 17,
   "id": "32aa4630",
   "metadata": {},
   "outputs": [
    {
     "name": "stderr",
     "output_type": "stream",
     "text": [
      "Fusing layers... \n",
      "custom_YOLOv5s summary: 182 layers, 7257306 parameters, 0 gradients\n"
     ]
    },
    {
     "name": "stdout",
     "output_type": "stream",
     "text": [
      " Exit requested.\n"
     ]
    }
   ],
   "source": [
    "import sys\n",
    "import platform\n",
    "import pathlib\n",
    "from pathlib import Path\n",
    "import torch\n",
    "import cv2\n",
    "import numpy as np\n",
    "\n",
    "# Fix untuk error PosixPath di Windows\n",
    "if platform.system() == 'Windows':\n",
    "    pathlib.PosixPath = pathlib.WindowsPath\n",
    "\n",
    "# Path ke YOLOv5\n",
    "YOLOV5_PATH = Path('yolov5s.pt').resolve()\n",
    "if str(YOLOV5_PATH) not in sys.path:\n",
    "    sys.path.append(str(YOLOV5_PATH))\n",
    "\n",
    "# Import dari YOLOv5 lokal\n",
    "from utils.augmentations import letterbox\n",
    "from utils.general import non_max_suppression\n",
    "from models.common import DetectMultiBackend\n",
    "\n",
    "# Custom scale_coords karena versi baru tidak menyediakannya\n",
    "def scale_coords(img1_shape, coords, img0_shape, ratio_pad=None):\n",
    "    if ratio_pad is None:\n",
    "        gain = min(img1_shape[0] / img0_shape[0], img1_shape[1] / img0_shape[1])\n",
    "        pad = ((img1_shape[1] - img0_shape[1] * gain) / 2, (img1_shape[0] - img0_shape[0] * gain) / 2)\n",
    "    else:\n",
    "        gain = ratio_pad[0][0]\n",
    "        pad = ratio_pad[1]\n",
    "\n",
    "    coords[:, [0, 2]] -= pad[0]\n",
    "    coords[:, [1, 3]] -= pad[1]\n",
    "    coords[:, :4] /= gain\n",
    "    coords[:, 0].clamp_(0, img0_shape[1])\n",
    "    coords[:, 1].clamp_(0, img0_shape[0])\n",
    "    coords[:, 2].clamp_(0, img0_shape[1])\n",
    "    coords[:, 3].clamp_(0, img0_shape[0])\n",
    "    return coords\n",
    "\n",
    "# Fungsi menggambar satu bounding box\n",
    "def plot_one_box(xyxy, img, color=(0, 255, 0), label=None, line_thickness=2):\n",
    "    tl = line_thickness or max(round(0.002 * (img.shape[0] + img.shape[1]) / 2), 1)\n",
    "    c1, c2 = (int(xyxy[0]), int(xyxy[1])), (int(xyxy[2]), int(xyxy[3]))\n",
    "    cv2.rectangle(img, c1, c2, color, thickness=tl, lineType=cv2.LINE_AA)\n",
    "    if label:\n",
    "        tf = max(tl - 1, 1)\n",
    "        t_size = cv2.getTextSize(label, 0, fontScale=tl / 3, thickness=tf)[0]\n",
    "        c2_label = c1[0] + t_size[0], c1[1] - t_size[1] - 3\n",
    "        cv2.rectangle(img, c1, c2_label, color, -1, cv2.LINE_AA)\n",
    "        cv2.putText(img, label, (c1[0], c1[1] - 2), 0, tl / 3, (255, 255, 255), thickness=tf, lineType=cv2.LINE_AA)\n",
    "\n",
    "# Path model hasil training kamu\n",
    "weights = r\"runs/train/yolov5s_results2/weights/best.pt\"\n",
    "\n",
    "# Load model\n",
    "device = torch.device('cuda' if torch.cuda.is_available() else 'cpu')\n",
    "model = DetectMultiBackend(weights, device=device)\n",
    "model.eval()\n",
    "names = model.names\n",
    "\n",
    "# Mulai webcam\n",
    "cap = cv2.VideoCapture(0)\n",
    "\n",
    "while True:\n",
    "    ret, frame = cap.read()\n",
    "    if not ret:\n",
    "        print(' Gagal menangkap frame dari webcam')\n",
    "        break\n",
    "\n",
    "    # Preprocess input\n",
    "    img = letterbox(frame, new_shape=640)[0]\n",
    "    img = img[:, :, ::-1].transpose(2, 0, 1)  # BGR ke RGB dan HWC ke CHW\n",
    "    img = np.ascontiguousarray(img)\n",
    "    img = torch.from_numpy(img).to(device).float() / 255.0\n",
    "    img = img.unsqueeze(0)\n",
    "\n",
    "    # Inference\n",
    "    with torch.no_grad():\n",
    "        pred = model(img)\n",
    "    pred = non_max_suppression(pred, conf_thres=0.25, iou_thres=0.45)[0]\n",
    "\n",
    "    # Gambar hasil\n",
    "    if pred is not None and len(pred):\n",
    "        pred[:, :4] = scale_coords(img.shape[2:], pred[:, :4], frame.shape).round()\n",
    "        for *xyxy, conf, cls in pred:\n",
    "            label = f'{names[int(cls)]} {conf:.2f}'\n",
    "            plot_one_box(xyxy, frame, label=label)\n",
    "\n",
    "    cv2.imshow('YOLOv5 Realtime Detection', frame)\n",
    "    if cv2.waitKey(1) & 0xFF == ord('q'):\n",
    "        print(\" Exit requested.\")\n",
    "        break\n",
    "\n",
    "cap.release()\n",
    "cv2.destroyAllWindows()\n"
   ]
  }
 ],
 "metadata": {
  "kernelspec": {
   "display_name": "Python 3",
   "language": "python",
   "name": "python3"
  },
  "language_info": {
   "codemirror_mode": {
    "name": "ipython",
    "version": 3
   },
   "file_extension": ".py",
   "mimetype": "text/x-python",
   "name": "python",
   "nbconvert_exporter": "python",
   "pygments_lexer": "ipython3",
   "version": "3.12.5"
  }
 },
 "nbformat": 4,
 "nbformat_minor": 5
}
